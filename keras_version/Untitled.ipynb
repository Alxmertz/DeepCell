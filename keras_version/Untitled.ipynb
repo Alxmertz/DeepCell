{
 "cells": [
  {
   "cell_type": "markdown",
   "metadata": {},
   "source": [
    "## Bacterial growth curves\n",
    "\n",
    "This notebook reproduces the analysis to create bacterial growth curves. Images are first aligned and segmented. Then the cells are tracked from frame to frame using the linear assignment problem approach.\n",
    "\n",
    "First we have to import packages"
   ]
  },
  {
   "cell_type": "code",
   "execution_count": 7,
   "metadata": {
    "collapsed": false
   },
   "outputs": [
    {
     "ename": "ImportError",
     "evalue": "cannot import name create_masks",
     "output_type": "error",
     "traceback": [
      "\u001b[0;31m---------------------------------------------------------------------------\u001b[0m",
      "\u001b[0;31mImportError\u001b[0m                               Traceback (most recent call last)",
      "\u001b[0;32m<ipython-input-7-2884fe3d6827>\u001b[0m in \u001b[0;36m<module>\u001b[0;34m()\u001b[0m\n\u001b[1;32m     10\u001b[0m \u001b[0;32mimport\u001b[0m \u001b[0mnumpy\u001b[0m \u001b[0;32mas\u001b[0m \u001b[0mnp\u001b[0m\u001b[0;34m\u001b[0m\u001b[0m\n\u001b[1;32m     11\u001b[0m \u001b[0;34m\u001b[0m\u001b[0m\n\u001b[0;32m---> 12\u001b[0;31m \u001b[0;32mfrom\u001b[0m \u001b[0mcnn_functions\u001b[0m \u001b[0;32mimport\u001b[0m \u001b[0mcreate_masks\u001b[0m\u001b[0;34m,\u001b[0m \u001b[0mget_image\u001b[0m\u001b[0;34m,\u001b[0m \u001b[0malign_images\u001b[0m\u001b[0;34m,\u001b[0m \u001b[0mcrop_images\u001b[0m\u001b[0;34m,\u001b[0m \u001b[0mmake_tracks\u001b[0m\u001b[0;34m,\u001b[0m \u001b[0mget_lineage\u001b[0m\u001b[0;34m\u001b[0m\u001b[0m\n\u001b[0m\u001b[1;32m     13\u001b[0m \u001b[0;32mfrom\u001b[0m \u001b[0mcnn_functions\u001b[0m \u001b[0;32mimport\u001b[0m \u001b[0mplot_lineage\u001b[0m\u001b[0;34m,\u001b[0m \u001b[0mplot_lineage_numbers\u001b[0m\u001b[0;34m,\u001b[0m \u001b[0mplot_lineage_total\u001b[0m\u001b[0;34m\u001b[0m\u001b[0m\n\u001b[1;32m     14\u001b[0m \u001b[0;32mimport\u001b[0m \u001b[0mmatplotlib\u001b[0m \u001b[0;32mas\u001b[0m \u001b[0mmpl\u001b[0m\u001b[0;34m\u001b[0m\u001b[0m\n",
      "\u001b[0;31mImportError\u001b[0m: cannot import name create_masks"
     ]
    }
   ],
   "source": [
    "import h5py\n",
    "import tifffile as tiff\n",
    "from keras.backend.common import _UID_PREFIXES\n",
    "\n",
    "from cnn_functions import nikon_getfiles, get_image, run_models_on_directory, get_image_sizes, segment_nuclei, segment_cytoplasm, dice_jaccard_indices\n",
    "from model_zoo import sparse_bn_feature_net_61x61 as cyto_fn\n",
    "from model_zoo import sparse_bn_feature_net_61x61 as nuclear_fn\n",
    "\n",
    "import os\n",
    "import numpy as np\n",
    "\n",
    "from cnn_functions import create_masks, get_image, align_images, crop_images, make_tracks, get_lineage\n",
    "from cnn_functions import plot_lineage, plot_lineage_numbers, plot_lineage_total\n",
    "import matplotlib as mpl\n",
    "import scipy\n",
    "mpl.rcParams['pdf.fonttype'] = 42\n"
   ]
  },
  {
   "cell_type": "code",
   "execution_count": null,
   "metadata": {
    "collapsed": true
   },
   "outputs": [],
   "source": []
  }
 ],
 "metadata": {
  "kernelspec": {
   "display_name": "Python 2",
   "language": "python",
   "name": "python2"
  },
  "language_info": {
   "codemirror_mode": {
    "name": "ipython",
    "version": 2
   },
   "file_extension": ".py",
   "mimetype": "text/x-python",
   "name": "python",
   "nbconvert_exporter": "python",
   "pygments_lexer": "ipython2",
   "version": "2.7.4"
  }
 },
 "nbformat": 4,
 "nbformat_minor": 0
}
