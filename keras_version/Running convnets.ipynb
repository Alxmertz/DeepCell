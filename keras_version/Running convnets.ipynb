{
 "cells": [
  {
   "cell_type": "markdown",
   "metadata": {},
   "source": [
    "## Running conv-nets\n",
    "This ipython notebook walks you through the running_template.py script.\n",
    "\n",
    "First, we need to load the necessary python modules"
   ]
  },
  {
   "cell_type": "code",
   "execution_count": 1,
   "metadata": {
    "collapsed": false
   },
   "outputs": [
    {
     "name": "stderr",
     "output_type": "stream",
     "text": [
      "tifffile.py:156: UserWarning: failed to import the optional _tifffile C extension module.\n",
      "Loading of some compressed images will be slow.\n",
      "Tifffile.c can be obtained at http://www.lfd.uci.edu/~gohlke/\n",
      "  \"failed to import the optional _tifffile C extension module.\\n\"\n",
      "Using Theano backend.\n"
     ]
    }
   ],
   "source": [
    "import h5py\n",
    "import tifffile as tiff\n",
    "from keras.backend.common import _UID_PREFIXES\n",
    "\n",
    "from cnn_functions import nikon_getfiles, get_image, run_models_on_directory, get_image_sizes, segment_nuclei, segment_cytoplasm, dice_jaccard_indices\n",
    "from model_zoo import sparse_bn_feature_net_61x61 as cyto_fn\n",
    "from model_zoo import sparse_bn_feature_net_61x61 as nuclear_fn\n",
    "\n",
    "import os\n",
    "import numpy as np"
   ]
  },
  {
   "cell_type": "markdown",
   "metadata": {},
   "source": [
    "Next, we need to specify some directory locations - namely where the home data directory is (direc_name), where the raw images are located (data_location), where to store they cytoplasm prediction images (cyto_location), where to store the nuclear prediction images (nuclear_location), and where to store the final segmentation masks (mask_location)"
   ]
  },
  {
   "cell_type": "code",
   "execution_count": 2,
   "metadata": {
    "collapsed": true
   },
   "outputs": [],
   "source": [
    "direc_name = '/Users/nicolasquach/sherlock_home/DeepCell2/validation_data/HeLa/'\n",
    "data_location = os.path.join(direc_name, 'RawImages')\n",
    "\n",
    "cyto_location = os.path.join(direc_name, 'Cytoplasm')\n",
    "nuclear_location = os.path.join(direc_name, 'Nuclear')\n",
    "mask_location = os.path.join(direc_name, 'Masks')"
   ]
  },
  {
   "cell_type": "markdown",
   "metadata": {},
   "source": [
    "Next, we need to define the channel names. In this case, the cytoplasm network takes in phase and nuclear marker (far red) images. The channel names have to be present in the file names. We also need to specify the directory the conv-net parameter files live in and what the file names are."
   ]
  },
  {
   "cell_type": "code",
   "execution_count": 3,
   "metadata": {
    "collapsed": true
   },
   "outputs": [],
   "source": [
    "cyto_channel_names = ['phase', 'farred']\n",
    "nuclear_channel_names = ['farred']\n",
    "\n",
    "trained_network_cyto_directory = \"/Users/nicolasquach/sherlock_home/DeepCell2/trained_networks/HeLa/\"\n",
    "trained_network_nuclear_directory = \"/Users/nicolasquach/sherlock_home/DeepCell2/trained_networks/Nuclear\"\n",
    "\n",
    "cyto_prefix = \"2016-07-12_HeLa_all_61x61_bn_feature_net_61x61_\"\n",
    "nuclear_prefix = \"2016-07-12_nuclei_all_61x61_bn_feature_net_61x61_\""
   ]
  },
  {
   "cell_type": "markdown",
   "metadata": {},
   "source": [
    "We are using a network that takes in 61x61 images in this example. We need to manually feed in the window size (the number of pixels sampled around each pixels). We also need to specify the image size."
   ]
  },
  {
   "cell_type": "code",
   "execution_count": 4,
   "metadata": {
    "collapsed": false
   },
   "outputs": [],
   "source": [
    "win_cyto = 30\n",
    "win_nuclear = 30\n",
    "\n",
    "image_size_x, image_size_y = get_image_sizes(data_location, nuclear_channel_names)\n"
   ]
  },
  {
   "cell_type": "markdown",
   "metadata": {},
   "source": [
    "Now we need to load the weights for the networks. Remember we make use of two networks - one for the cytoplasm and another for the nucleus. Because we use model parallelism, we have 5 networks for each segmentation task."
   ]
  },
  {
   "cell_type": "code",
   "execution_count": 5,
   "metadata": {
    "collapsed": true
   },
   "outputs": [],
   "source": [
    "list_of_cyto_weights = []\n",
    "for j in xrange(5):\n",
    "\tcyto_weights = os.path.join(trained_network_cyto_directory,  cyto_prefix + str(j) + \".h5\")\n",
    "\tlist_of_cyto_weights += [cyto_weights]\n",
    "\n",
    "list_of_nuclear_weights = []\n",
    "for j in xrange(5):\n",
    "\tnuclear_weights = os.path.join(trained_network_nuclear_directory,  nuclear_prefix + str(j) + \".h5\")\n",
    "\tlist_of_nuclear_weights += [nuclear_weights]"
   ]
  },
  {
   "cell_type": "markdown",
   "metadata": {},
   "source": [
    "Next, we run all our networks on all the files in our directory."
   ]
  },
  {
   "cell_type": "code",
   "execution_count": null,
   "metadata": {
    "collapsed": false
   },
   "outputs": [
    {
     "name": "stdout",
     "output_type": "stream",
     "text": [
      "Processing image 1 of 1\n"
     ]
    }
   ],
   "source": [
    "cytoplasm_predictions = run_models_on_directory(data_location, cyto_channel_names, cyto_location, model_fn = cyto_fn, \n",
    "\tlist_of_weights = list_of_cyto_weights, image_size_x = image_size_x, image_size_y = image_size_y, \n",
    "\twin_x = win_cyto, win_y = win_cyto, split = False)\n",
    "\n",
    "nuclear_predictions = run_models_on_directory(data_location, nuclear_channel_names, nuclear_location, model_fn = nuclear_fn, \n",
    "\tlist_of_weights = list_of_nuclear_weights, image_size_x = image_size_x, image_size_y = image_size_y, \n",
    "\twin_x = win_nuclear, win_y = win_nuclear, split = False)"
   ]
  },
  {
   "cell_type": "markdown",
   "metadata": {},
   "source": [
    "Next, we need to refine the neural network predictions to create segmentation masks. The smoothing and num_iters parameters control the active contour refinement process."
   ]
  },
  {
   "cell_type": "code",
   "execution_count": 7,
   "metadata": {
    "collapsed": true
   },
   "outputs": [],
   "source": [
    "nuclear_masks = segment_nuclei(nuclear_predictions, mask_location = mask_location, threshold = 0.75, area_threshold = 100, solidity_threshold = 0.75, eccentricity_threshold = 0.95)\n",
    "cytoplasm_masks = segment_cytoplasm(cytoplasm_predictions, nuclear_masks = nuclear_masks, mask_location = mask_location, smoothing = 1, num_iters = 120)"
   ]
  },
  {
   "cell_type": "markdown",
   "metadata": {},
   "source": [
    "With the masks computed, if a reference segmentation is available, we can test our conv-net segmentation against them to compute the Jaccard and Dice indices."
   ]
  },
  {
   "cell_type": "code",
   "execution_count": 8,
   "metadata": {
    "collapsed": false
   },
   "outputs": [
    {
     "name": "stdout",
     "output_type": "stream",
     "text": [
      "Jaccard index is 0.84462 +/- 0.0107597496164\n",
      "Dice index is 0.914696973088 +/- 0.00655002244584\n"
     ]
    },
    {
     "data": {
      "text/plain": [
       "(0.84462011, 0.91469697308829423)"
      ]
     },
     "execution_count": 8,
     "metadata": {},
     "output_type": "execute_result"
    }
   ],
   "source": [
    "direc_val = os.path.join(direc_name, 'Validation')\n",
    "imglist_val = nikon_getfiles(direc_val, 'validation_interior')\n",
    "\n",
    "val_name = os.path.join(direc_val, imglist_val[0]) \n",
    "val = get_image(val_name)\n",
    "val = val[win_cyto:-win_cyto,win_cyto:-win_cyto]\n",
    "cyto = cytoplasm_masks[0,win_cyto:-win_cyto,win_cyto:-win_cyto]\n",
    "nuc = nuclear_masks[0,win_cyto:-win_cyto,win_cyto:-win_cyto]\n",
    "\n",
    "dice_jaccard_indices(cyto, val, nuc)"
   ]
  }
 ],
 "metadata": {
  "kernelspec": {
   "display_name": "Python 2",
   "language": "python",
   "name": "python2"
  },
  "language_info": {
   "codemirror_mode": {
    "name": "ipython",
    "version": 2
   },
   "file_extension": ".py",
   "mimetype": "text/x-python",
   "name": "python",
   "nbconvert_exporter": "python",
   "pygments_lexer": "ipython2",
   "version": "2.7.11"
  }
 },
 "nbformat": 4,
 "nbformat_minor": 0
}
