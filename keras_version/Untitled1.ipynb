{
 "cells": [
  {
   "cell_type": "code",
   "execution_count": 7,
   "metadata": {
    "collapsed": false
   },
   "outputs": [],
   "source": [
    "\"\"\"\n",
    "Import packages\n",
    "\"\"\"\n",
    "\n",
    "\n",
    "import numpy as np\n",
    "import matplotlib.pyplot as plt\n",
    "import glob\n",
    "import os\n",
    "import fnmatch\n",
    "import skimage as sk\n",
    "import scipy as sp\n",
    "from scipy import ndimage\n",
    "from skimage import feature\n",
    "from cnn_functions import get_image\n",
    "from cnn_functions import format_coord as cf\n",
    "from skimage import morphology as morph\n",
    "from skimage.transform import resize\n",
    "import matplotlib.pyplot as plt\n",
    "from pywt import WaveletPacket2D\n",
    "\n",
    "# Define maximum number of training examples\n",
    "max_training_examples = 10000000\n",
    "window_size_x = 30\n",
    "window_size_y = 30\n",
    "\n",
    "# Load data\n",
    "direc_name = '/home/vanvalen/DeepCell2/training_data/HeLa_joint'\n",
    "file_name_save = os.path.join('/home/vanvalen/DeepCell2/training_data_npz/', 'HeLa_all_newnorm_61x61.npz')\n",
    "training_direcs = [\"set1\", \"set2\", \"set3\", \"set4\", \"set5\"] \n",
    "channel_names = [\"phase\", \"nuclear\"]"
   ]
  },
  {
   "cell_type": "code",
   "execution_count": 91,
   "metadata": {
    "collapsed": false
   },
   "outputs": [
    {
     "name": "stdout",
     "output_type": "stream",
     "text": [
      "phase.png\n",
      "nuclear.png\n",
      "phase.png\n",
      "nuclear.png\n",
      "phase.png\n",
      "nuclear.png\n",
      "phase.png\n",
      "nuclear.png\n",
      "phase.png\n",
      "nuclear.png\n"
     ]
    }
   ],
   "source": [
    "# Specify the number of feature masks that are present\n",
    "num_of_features = 2\n",
    "\n",
    "# Some of the features that are edges we would like to do morphological\n",
    "# dilation (disk of radius dil_radius) for data augmentation. This vector identifies \n",
    "# which features are edges and which ones arent (1 for an edge, 0 if not an edge)\n",
    "\n",
    "is_edge_feature = [1,0]\n",
    "dil_radius = 1\n",
    "\n",
    "num_direcs = len(training_direcs)\n",
    "num_channels = len(channel_names)\n",
    "\n",
    "imglist = []\n",
    "for direc in training_direcs:\n",
    "\timglist += os.listdir(os.path.join(direc_name, direc))\n",
    "\n",
    "# Load one file to get image sizes\n",
    "img_temp = get_image(os.path.join(direc_name,training_direcs[0],imglist[0]))\n",
    "image_size_x, image_size_y = img_temp.shape\n",
    "\n",
    "# Initialize arrays for the training images and the feature masks\n",
    "channels = np.zeros((num_direcs, num_channels, image_size_x, image_size_y), dtype='float32')\n",
    "feature_mask = np.zeros((num_direcs, num_of_features + 1, image_size_x, image_size_y))\n",
    "\n",
    "# Load training images\n",
    "direc_counter = 0\n",
    "for direc in training_direcs:\n",
    "\timglist = os.listdir(os.path.join(direc_name, direc))\n",
    "\tchannel_counter = 0\n",
    "\n",
    "\t# Load channels\n",
    "\tfor channel in channel_names:\n",
    "\t\tfor img in imglist: \n",
    "\t\t\tif fnmatch.fnmatch(img, r'*' + channel + r'*'):\n",
    "\t\t\t\tprint img\n",
    "\t\t\t\tchannel_file = img\n",
    "\t\t\t\tchannel_file = os.path.join(direc_name, direc, channel_file)\n",
    "\t\t\t\tchannel_img = np.float64(get_image(channel_file))\n",
    "\n",
    "\t\t\t\tp50 = np.percentile(channel_img, 50)\n",
    "\t\t\t\tchannel_img /= p50\n",
    "\n",
    "\t\t\t\t# channel_img -= np.mean(channel_img)\n",
    "\t\t\t\t#avg_kernel = np.ones((2*window_size_x + 1, 2*window_size_y + 1))\n",
    "\t\t\t\t#channel_img -= ndimage.convolve(channel_img, avg_kernel)/avg_kernel.size\n",
    "                wp = WaveletPacket2D(data = channel_img, wavelet = 'haar', mode = 'sym')\n",
    "                noise_1 = resize(np.array(wp['a'*1].data), channel_img.shape, order = 3, mode = 'reflect')/2**1\n",
    "                noise_2 = resize(np.array(wp['a'*2].data), channel_img.shape, order = 3, mode = 'reflect')/2**2\n",
    "                noise_3 = resize(np.array(wp['a'*3].data), channel_img.shape, order = 3, mode = 'reflect')/2**3\n",
    "                detail =  noise_1 - noise_3\n",
    "                background = resize(np.array(wp['a'*5].data), channel_img.shape, order = 3, mode = 'reflect')/2**5\n",
    "                channel_img -= noise_1 + noise_2 + background\n",
    "                channel_img = detail\n",
    "                channels[direc_counter,channel_counter,:,:] = channel_img\n",
    "                channel_counter += 1\n",
    "\n",
    "\tdirec_counter += 1"
   ]
  },
  {
   "cell_type": "code",
   "execution_count": 50,
   "metadata": {
    "collapsed": true
   },
   "outputs": [],
   "source": [
    "direc_counter = 0\n",
    "for direc in training_direcs:\n",
    "\t# Load feature mask\n",
    "\tfor j in xrange(num_of_features):\n",
    "\t\tfeature_name = \"feature_\" + str(j) + r\".*\"\n",
    "\t\tfor img in imglist:\n",
    "\t\t\tif fnmatch.fnmatch(img, feature_name):\n",
    "\t\t\t\tfeature_file = os.path.join(direc_name, direc, img)\n",
    "\t\t\t\tfeature_img = get_image(feature_file)\n",
    "\n",
    "\t\t\t\tif np.sum(feature_img) > 0:\n",
    "\t\t\t\t\tfeature_img /= np.amax(feature_img)\n",
    "\n",
    "\t\t\t\tif is_edge_feature[j] == 1:\n",
    "\t\t\t\t\tstrel = sk.morphology.disk(dil_radius)\n",
    "\t\t\t\t\tfeature_img = sk.morphology.binary_dilation(feature_img, selem = strel)\n",
    "\n",
    "\t\t\t\tfeature_mask[direc_counter,j,:,:] = feature_img\n",
    "\n",
    "\t# Thin the augmented edges by subtracting the interior features.\n",
    "\tfor j in xrange(num_of_features):\n",
    "\t\tif is_edge_feature[j] == 1:\n",
    "\t\t\tfor k in xrange(num_of_features):\n",
    "\t\t\t\tif is_edge_feature[k] == 0:\n",
    "\t\t\t\t\tfeature_mask[direc_counter,j,:,:] -= feature_mask[direc_counter,k,:,:]\n",
    "\t\t\tfeature_mask[direc_counter,j,:,:] = feature_mask[direc_counter,j,:,:] > 0\n",
    "\n",
    "\t# Compute the mask for the background\n",
    "\tfeature_mask_sum = np.sum(feature_mask[direc_counter,:,:,:], axis = 0)\n",
    "\tfeature_mask[direc_counter,num_of_features,:,:] = 1 - feature_mask_sum\n",
    "\n",
    "\tdirec_counter += 1"
   ]
  },
  {
   "cell_type": "code",
   "execution_count": 47,
   "metadata": {
    "collapsed": false
   },
   "outputs": [
    {
     "name": "stdout",
     "output_type": "stream",
     "text": [
      "(5, 3)\n"
     ]
    }
   ],
   "source": [
    "fig,ax = plt.subplots(len(training_direcs),num_of_features+1, squeeze = False)\n",
    "print ax.shape\n",
    "for j in xrange(len(training_direcs)):\n",
    "\tax[j,0].imshow(channels[j,0,:,:],cmap=plt.cm.gray,interpolation='nearest')\n",
    "\tdef form_coord(x,y):\n",
    "\t\treturn cf(x,y,channels[j,0,:,:])\n",
    "\tax[j,0].format_coord = form_coord\n",
    "\tax[j,0].axes.get_xaxis().set_visible(False)\n",
    "\tax[j,0].axes.get_yaxis().set_visible(False)\n",
    "\n",
    "\tfor k in xrange(1,num_of_features+1):\n",
    "\t\tax[j,k].imshow(feature_mask[j,k-1,:,:],cmap=plt.cm.gray,interpolation='nearest')\n",
    "\t\tdef form_coord(x,y):\n",
    "\t\t\treturn cf(x,y,feature_mask[j,k-1,:,:])\n",
    "\t\tax[j,k].format_coord = form_coord\n",
    "\t\tax[j,k].axes.get_xaxis().set_visible(False)\n",
    "\t\tax[j,k].axes.get_yaxis().set_visible(False)\n",
    "\n",
    "plt.show()"
   ]
  },
  {
   "cell_type": "code",
   "execution_count": 94,
   "metadata": {
    "collapsed": false
   },
   "outputs": [],
   "source": [
    "sk.io.imsave('test.tif', channels[4,1,:,:])"
   ]
  },
  {
   "cell_type": "code",
   "execution_count": null,
   "metadata": {
    "collapsed": true
   },
   "outputs": [],
   "source": []
  }
 ],
 "metadata": {
  "kernelspec": {
   "display_name": "Python 2",
   "language": "python",
   "name": "python2"
  },
  "language_info": {
   "codemirror_mode": {
    "name": "ipython",
    "version": 2
   },
   "file_extension": ".py",
   "mimetype": "text/x-python",
   "name": "python",
   "nbconvert_exporter": "python",
   "pygments_lexer": "ipython2",
   "version": "2.7.4"
  }
 },
 "nbformat": 4,
 "nbformat_minor": 0
}
