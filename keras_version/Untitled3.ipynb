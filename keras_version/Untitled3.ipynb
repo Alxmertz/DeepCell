{
 "cells": [
  {
   "cell_type": "code",
   "execution_count": 8,
   "metadata": {
    "collapsed": false
   },
   "outputs": [],
   "source": [
    "import matplotlib.pyplot as plt\n",
    "import matplotlib as mpl\n",
    "mpl.rcParams['pdf.fonttype'] = 42\n",
    "\n",
    "x = [1250, 2500, 5000, 10000, 20000]\n",
    "jac = [0.781, 0.810, 0.782, 0.789, 0.719]\n",
    "jac_err = [0.098, 0.085, 0.118, 0.12, 0.15]\n",
    "dice = [0.873, 0.893, 0.872, 0.875, 0.825]\n",
    "dice_err = [0.066, 0.056, 0.08, 0.10, 0.13]\n",
    "\n",
    "plt.figure()\n",
    "plt.errorbar(x, jac, yerr=jac_err, fmt = 'o-', label = 'Jaccard index')\n",
    "\n",
    "plt.xlim([0,21000])\n",
    "plt.ylim([0.5, 1])\n",
    "\n",
    "plt.title(\"Segmentation error (Jaccard index) vs plating density\")\n",
    "plt.xlabel(\"Plating density (Number of cells)\")\n",
    "plt.ylabel(\"Jaccard index\")\n",
    "plt.savefig(\"jaccard_plating.pdf\")\n",
    "\n",
    "plt.figure()\n",
    "plt.errorbar(x, dice, yerr=dice_err, fmt = 'o-', label = 'Dice index')\n",
    "\n",
    "plt.xlim([0,21000])\n",
    "plt.ylim([0.5, 1])\n",
    "plt.title(\"Segmentation error (Dice index) vs plating density\")\n",
    "plt.xlabel(\"Plating density (Number of cells)\")\n",
    "plt.ylabel(\"Dice index\")\n",
    "plt.savefig(\"dice_plating.pdf\")\n"
   ]
  },
  {
   "cell_type": "code",
   "execution_count": null,
   "metadata": {
    "collapsed": true
   },
   "outputs": [],
   "source": []
  }
 ],
 "metadata": {
  "kernelspec": {
   "display_name": "Python 2",
   "language": "python",
   "name": "python2"
  },
  "language_info": {
   "codemirror_mode": {
    "name": "ipython",
    "version": 2
   },
   "file_extension": ".py",
   "mimetype": "text/x-python",
   "name": "python",
   "nbconvert_exporter": "python",
   "pygments_lexer": "ipython2",
   "version": "2.7.4"
  }
 },
 "nbformat": 4,
 "nbformat_minor": 0
}
