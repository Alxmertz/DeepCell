{
 "cells": [
  {
   "cell_type": "markdown",
   "metadata": {},
   "source": [
    "## Bacterial growth curves\n",
    "\n",
    "This notebook reproduces the analysis to create bacterial growth curves. Images are first aligned and segmented. Then the cells are tracked from frame to frame using the linear assignment problem approach.\n",
    "\n",
    "First we have to import packages"
   ]
  },
  {
   "cell_type": "code",
   "execution_count": 3,
   "metadata": {
    "collapsed": false
   },
   "outputs": [
    {
     "name": "stderr",
     "output_type": "stream",
     "text": [
      "Using Theano backend.\n",
      "Using gpu device 0: GeForce GTX 1080 (CNMeM is disabled, cuDNN 5005)\n"
     ]
    }
   ],
   "source": [
    "import h5py\n",
    "import tifffile as tiff\n",
    "from keras.backend.common import _UID_PREFIXES\n",
    "\n",
    "from cnn_functions import nikon_getfiles, get_image, run_models_on_directory, get_image_sizes, segment_nuclei, segment_cytoplasm, dice_jaccard_indices\n",
    "from model_zoo import sparse_bn_feature_net_31x31 as cyto_fn\n",
    "\n",
    "import os\n",
    "import numpy as np\n",
    "\n",
    "from cnn_functions import get_image, align_images, crop_images, make_tracks, get_lineage\n",
    "from cnn_functions import create_masks, plot_lineage, plot_lineage_numbers, plot_lineage_total\n",
    "import matplotlib as mpl\n",
    "import matplotlib.pyplot as plt\n",
    "import scipy\n",
    "import tifffile as tiff\n",
    "\n",
    "mpl.rcParams['pdf.fonttype'] = 42\n"
   ]
  },
  {
   "cell_type": "markdown",
   "metadata": {
    "collapsed": false
   },
   "source": [
    "Let's define the directories that we'll need to proceed."
   ]
  },
  {
   "cell_type": "code",
   "execution_count": 4,
   "metadata": {
    "collapsed": false
   },
   "outputs": [],
   "source": [
    "direc_name = \"/home/vanvalen/Data/ecoli\"\n",
    "image_dir = os.path.join(direc_name, \"RawImages/\")\n",
    "align_dir = os.path.join(direc_name, \"Align/\")\n",
    "cnn_save_dir = os.path.join(direc_name, \"Cytoplasm/\")\n",
    "mask_dir = os.path.join(direc_name, \"Masks/\")\n",
    "region_dir = os.path.join(direc_name, \"Regions/\")\n",
    "cropped_dir = os.path.join(direc_name, \"Cropped/\")\n",
    "track_dir = os.path.join(direc_name, \"Tracks/\")\n",
    "cost_dir = os.path.join(direc_name, \"Cost_Matrices/\")"
   ]
  },
  {
   "cell_type": "markdown",
   "metadata": {},
   "source": [
    "Lets also define the phase channel (recall that we only use the phase images to segment bacteria)"
   ]
  },
  {
   "cell_type": "code",
   "execution_count": 5,
   "metadata": {
    "collapsed": true
   },
   "outputs": [],
   "source": [
    "channel_names = [\"Pos3\"]"
   ]
  },
  {
   "cell_type": "markdown",
   "metadata": {},
   "source": [
    "First, we need to align our images"
   ]
  },
  {
   "cell_type": "code",
   "execution_count": null,
   "metadata": {
    "collapsed": false
   },
   "outputs": [],
   "source": [
    "align_images(direc_name = image_dir, channel_names = channel_names, direc_save = align_dir)"
   ]
  },
  {
   "cell_type": "code",
   "execution_count": null,
   "metadata": {
    "collapsed": false
   },
   "outputs": [],
   "source": [
    "trained_network_cyto_directory = \"/home/vanvalen/DeepCell2/trained_networks/ecoli/ecoli_all\"\n",
    "cyto_prefix = \"2016-07-20_ecoli_all_31x31_bn_feature_net_31x31_\"\n",
    "win_cyto = 15\n",
    "win_nuclear = 15\n",
    "\n",
    "image_size_x, image_size_y = get_image_sizes(align_dir, channel_names)\n",
    "\n",
    "list_of_cyto_weights = []\n",
    "for j in xrange(5):\n",
    "\tcyto_weights = os.path.join(trained_network_cyto_directory,  cyto_prefix + str(j) + \".h5\")\n",
    "\tlist_of_cyto_weights += [cyto_weights]\n",
    "    \n",
    "cytoplasm_predictions = run_models_on_directory(align_dir, channel_names, cnn_save_dir, model_fn = cyto_fn, \n",
    "\tlist_of_weights = list_of_cyto_weights, image_size_x = image_size_x, image_size_y = image_size_y, \n",
    "\twin_x = win_cyto, win_y = win_cyto, std = False, split = False)"
   ]
  },
  {
   "cell_type": "markdown",
   "metadata": {
    "collapsed": true
   },
   "source": [
    "Next we need to create masks from the segmentation prediction"
   ]
  },
  {
   "cell_type": "code",
   "execution_count": 4,
   "metadata": {
    "collapsed": false
   },
   "outputs": [
    {
     "name": "stdout",
     "output_type": "stream",
     "text": []
    }
   ],
   "source": [
    "create_masks(direc_name = cnn_save_dir, direc_save_mask = mask_dir, direc_save_region = region_dir, area_threshold = 25, clear_borders = 1)"
   ]
  },
  {
   "cell_type": "markdown",
   "metadata": {},
   "source": [
    "Now we need to construct cell lineages. This is done with the following section of code."
   ]
  },
  {
   "cell_type": "code",
   "execution_count": null,
   "metadata": {
    "collapsed": false
   },
   "outputs": [],
   "source": [
    "# Load Regions\n",
    "region_file = np.load(os.path.join(region_dir, 'regions_save.npz'))\n",
    "regions_save = region_file['regions_save']\n",
    "\n",
    "total_no_of_frames = 32\n",
    "\n",
    "# Construct tracks\n",
    "list_of_tracks = []\n",
    "for chunk in xrange(1,len(regions_save)):\n",
    "\ttracks = make_tracks(regions = regions_save[chunk], direc_save = track_dir, start_frame = 14, end_frame = 31, direc_cost_save = cost_dir)\n",
    "\tlist_of_tracks += [tracks]\n",
    "\n",
    "file_name_save = 'list_of_tracks'\n",
    "np.savez(os.path.join(track_dir, file_name_save), tracks = list_of_tracks)"
   ]
  },
  {
   "cell_type": "markdown",
   "metadata": {
    "collapsed": true
   },
   "source": [
    "We can make single cell growth curves. First lets load the cell lineages we constructed."
   ]
  },
  {
   "cell_type": "code",
   "execution_count": 6,
   "metadata": {
    "collapsed": false
   },
   "outputs": [],
   "source": [
    "# Load Regions\n",
    "region_file = np.load(region_dir + 'regions_save.npz')\n",
    "regions = region_file['regions_save']\n",
    "\n",
    "# Load Tracks\n",
    "track_file = np.load(track_dir + 'list_of_tracks.npz')\n",
    "list_of_tracks = track_file['tracks']\n",
    "\n",
    "# Load Tracks\n",
    "track_file = np.load(track_dir + 'tracks.npz')\n",
    "tracks = track_file['tracks']"
   ]
  },
  {
   "cell_type": "markdown",
   "metadata": {},
   "source": [
    "Now lets make the growth curves."
   ]
  },
  {
   "cell_type": "code",
   "execution_count": 7,
   "metadata": {
    "collapsed": false
   },
   "outputs": [],
   "source": [
    "counter =  0\n",
    "colors = [(0,0,0), (0.902,0.624,0),(0.337,0.706,0.914),(0,0.620,0.451),(0,0.447,0.698),(0.8,0.475,0.655)]\n",
    "colors += colors\n",
    "for chunk in list_of_tracks:\n",
    "\tfor track in chunk:\n",
    "\t\tif len(track) > 12:\n",
    "\t\t\tif counter < 12:\n",
    "\t\t\t\tframe = [(temp['frame']-15)*5 for temp in track]\n",
    "\t\t\t\tarea = [temp['area']*(.13 **2) for temp in track]\n",
    "\t\t\t\t\n",
    "\t\t\t\tplt.plot(np.array(frame)-frame[0],area, color = colors[counter])\n",
    "\t\t\t\tplt.xlabel('Time (min)', fontsize = 16)\n",
    "\t\t\t\tplt.ylabel(r'Area ($\\mu m^2$)', fontsize = 16)\n",
    "\t\t\t\tplt.title('Single-cell bacterial growth curves', fontsize = 20, y = 1.03)\n",
    "\t\t\t\tplt.grid(False)\n",
    "\n",
    "\t\t\t\tplt.xlim([0, 60])\n",
    "\t\t\t\tplt.xticks([0,20,40,60],  fontsize = 16)\n",
    "\t\t\t\tplt.ylim([0, 5])\n",
    "\t\t\t\tplt.yticks([0,1,2,3,4,5],  fontsize = 16)\n",
    "\t\t\t\tplt.tight_layout()\n",
    "\t\t\t\tcounter += 1\n",
    "\n",
    "plt.savefig(\"growthcurve.pdf\")\n",
    "plt.show()\n"
   ]
  },
  {
   "cell_type": "markdown",
   "metadata": {},
   "source": [
    "Now lets make a histogram of the instantaneous growth rate. "
   ]
  },
  {
   "cell_type": "code",
   "execution_count": 7,
   "metadata": {
    "collapsed": false
   },
   "outputs": [
    {
     "name": "stdout",
     "output_type": "stream",
     "text": [
      "Chunk number 0\n",
      "0.00405484641638\n",
      "1\n",
      "586\n"
     ]
    }
   ],
   "source": [
    "counter = 0\n",
    "\n",
    "cell_size_increases = []\n",
    "num_bad_segs = 0\n",
    "num_segs = 0\n",
    "for tracks in list_of_tracks:\n",
    "\tprint 'Chunk number ' + str(counter)\n",
    "\tcounter += 1\n",
    "\n",
    "\tfor track in tracks:\n",
    "\t\tif len(track) > 1:\n",
    "\t\t\tfor j in xrange(len(track)-1):\n",
    "\t\t\t\tcell_size_increase = 0.2 * np.float32((track[j+1]['area'] - track[j]['area'])) *(0.13 **2)\n",
    "\t\t\t\t# if cell_size_increase > 0:\n",
    "\t\t\t\tnum_segs += 1\n",
    "\t\t\t\tcell_size_increases += [cell_size_increase]\n",
    "\t\t\t\tif np.float32((track[j+1]['area'] - track[j]['area']))/np.float32(track[j]['area']) > 0.5:\n",
    "\t\t\t\t\tnum_bad_segs += 1\n",
    "\n",
    "cell_size_increases = np.array(cell_size_increases)\n",
    "print np.mean(cell_size_increases)\n",
    "print num_bad_segs\n",
    "print num_segs\n",
    "cell_size = plt.hist(cell_size_increases, bins = 470, color = 'r')\n",
    "plt.xlabel(r'Growth rate ($\\mu m^2 / min$)', fontsize = 16)\n",
    "plt.ylabel(r'Number of cells', fontsize = 16)\n",
    "plt.title('Instantaneous growth rate', y = 1.03, fontsize = 20)\n",
    "\n",
    "plt.xlim([-.1, 0.2])\n",
    "plt.xticks([-.1, 0,0.1,0.2],  fontsize = 16)\n",
    "plt.ylim([0, 1000])\n",
    "plt.yticks([0,500,1000],  fontsize = 16)\n",
    "plt.tight_layout()\n",
    "plt.savefig(\"instantaneous_growth_full.pdf\")\n",
    "plt.show()"
   ]
  },
  {
   "cell_type": "markdown",
   "metadata": {},
   "source": [
    "We can also color images by the bacterial growth rate."
   ]
  },
  {
   "cell_type": "code",
   "execution_count": 19,
   "metadata": {
    "collapsed": false
   },
   "outputs": [],
   "source": [
    "growth = np.zeros((870,870,31), dtype = 'float32')\n",
    "growth_color = 0.2*np.ones((870,870,3,31), dtype = 'float32')\n",
    "\n",
    "for tracks in list_of_tracks:\n",
    "    for track in tracks:\n",
    "        for j in xrange(len(track)):\n",
    "            cell = track[j]\n",
    "            if j > 0:\n",
    "                cell_prev = track[j-1]\n",
    "            coords_x = cell['coords'][:,0]\n",
    "            coords_y = cell['coords'][:,1]\n",
    "            frame_id = cell['frame']\n",
    "            \n",
    "            if j > 0:\n",
    "                growth_rate = 0.2 * np.float32((cell['area'] - cellprev['area'])) *(0.13 **2) *1/0.05\n",
    "                if np.float32((cell['area'] - cellprev['area'])) > 0.5 * np.float32(cellprev['area']):\n",
    "                    growth_rate = 0\n",
    "            else:\n",
    "                growth_rate = 0\n",
    "            growth_color[coords_x, coords_y,0,frame_id] = plt.cm.coolwarm(growth_rate)[0]\n",
    "            growth_color[coords_x, coords_y,1,frame_id] = plt.cm.coolwarm(growth_rate)[1]\n",
    "            growth_color[coords_x, coords_y,2,frame_id] = plt.cm.coolwarm(growth_rate)[2]\n",
    "            \n",
    "            growth[coords_x,coords_y,frame_id] = growth_rate\n",
    "for j in xrange(30):\n",
    "    im_name = os.path.join(direc_name, 'growth_color', 'g' + '_' + str(j) + r'.tif')\n",
    "    tiff.imsave(im_name,np.float32(growth[:,:,j]))"
   ]
  },
  {
   "cell_type": "code",
   "execution_count": 9,
   "metadata": {
    "collapsed": false
   },
   "outputs": [
    {
     "name": "stdout",
     "output_type": "stream",
     "text": [
      "Processing image 1\n",
      "Processing image 2\n",
      "Processing image 3\n",
      "Processing image 4\n",
      "Processing image 5\n",
      "Processing image 6\n",
      "Processing image 7\n",
      "Processing image 8\n",
      "Processing image 9\n",
      "Processing image 10\n",
      "Processing image 11\n",
      "Processing image 12\n",
      "Processing image 13\n",
      "Processing image 14\n",
      "Processing image 15\n",
      "Processing image 16\n",
      "Processing image 17\n",
      "Processing image 18\n",
      "Processing image 19\n",
      "Processing image 20\n",
      "Processing image 21\n",
      "Processing image 22\n",
      "Processing image 23\n",
      "Processing image 24\n",
      "Processing image 25\n",
      "Processing image 26\n",
      "Processing image 27\n",
      "Processing image 28\n",
      "Processing image 29\n",
      "Processing image 30\n"
     ]
    }
   ],
   "source": [
    "for k in xrange(1,31):\n",
    "\tprint 'Processing image ' + str(k) \n",
    "\tgrowth_color = 0.2*np.ones((870,870,3), dtype = 'float32')\n",
    "\tfor tracks in list_of_tracks:\n",
    "\t\tfor track in tracks:\n",
    "\t\t\tif len(track)>0:\n",
    "\t\t\t\tfor j in xrange(1,len(track)):\n",
    "\t\t\t\t\tcell = track[j]\n",
    "\t\t\t\t\tcellprev = track[j-1]\n",
    "\t\t\t\t\tcellzero = track[0]\n",
    "\t\t\t\t\tframe_id = cell['frame']\n",
    "\t\t\t\t\tframe_id_zero = cellzero['frame']\n",
    "\t\t\t\t\tif frame_id == k:\n",
    "\t\t\t\t\t\tgrowth_rate = 0.2 * np.float32((cell['area'] - cellprev['area'])) *(0.13 **2) *1/0.05\n",
    "\t\t\t\t\t\tif np.float32((cell['area'] - cellprev['area'])) > 0.5 * np.float32(cellprev['area']):\n",
    "\t\t\t\t\t\t\tgrowth_rate = 0\n",
    "\t\t\t\t\t\tcoords_x = cell['coords'][:,0]\n",
    "\t\t\t\t\t\tcoords_y = cell['coords'][:,1]\n",
    "\t\t\t\t\t\tgrowth_color[coords_x, coords_y,0] = plt.cm.coolwarm(growth_rate)[0]\n",
    "\t\t\t\t\t\tgrowth_color[coords_x, coords_y,1] = plt.cm.coolwarm(growth_rate)[1]\n",
    "\t\t\t\t\t\tgrowth_color[coords_x, coords_y,2] = plt.cm.coolwarm(growth_rate)[2]\n",
    "\t\t\t\t\t\t\n",
    "\t\t\t\t\tif frame_id_zero == k:\n",
    "\t\t\t\t\t\tgrowth_rate = 0\n",
    "\t\t\t\t\t\tcoords_x = cellzero['coords'][:,0]\n",
    "\t\t\t\t\t\tcoords_y = cellzero['coords'][:,1]\n",
    "\t\t\t\t\t\tgrowth_color[coords_x, coords_y,0] = plt.cm.coolwarm(growth_rate)[0]\n",
    "\t\t\t\t\t\tgrowth_color[coords_x, coords_y,1] = plt.cm.coolwarm(growth_rate)[1]\n",
    "\t\t\t\t\t\tgrowth_color[coords_x, coords_y,2] = plt.cm.coolwarm(growth_rate)[2]\n",
    "\n",
    "\t\tim_name = os.path.join(direc_name, 'growth_color', 'growth_color' + '_' + str(k) + r'.tif')\n",
    "\t\tscipy.misc.imsave(im_name,np.float16(growth_color))"
   ]
  },
  {
   "cell_type": "code",
   "execution_count": null,
   "metadata": {
    "collapsed": true
   },
   "outputs": [],
   "source": []
  }
 ],
 "metadata": {
  "kernelspec": {
   "display_name": "Python 2",
   "language": "python",
   "name": "python2"
  },
  "language_info": {
   "codemirror_mode": {
    "name": "ipython",
    "version": 2
   },
   "file_extension": ".py",
   "mimetype": "text/x-python",
   "name": "python",
   "nbconvert_exporter": "python",
   "pygments_lexer": "ipython2",
   "version": "2.7.4"
  }
 },
 "nbformat": 4,
 "nbformat_minor": 0
}
